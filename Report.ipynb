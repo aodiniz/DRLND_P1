{
 "cells": [
  {
   "cell_type": "markdown",
   "metadata": {},
   "source": [
    "# Udacity Deep Reinforcement Learning Nanodegree - Project 1 (Navigation)\n",
    "\n",
    "---"
   ]
  },
  {
   "cell_type": "markdown",
   "metadata": {},
   "source": [
    "## Report"
   ]
  },
  {
   "cell_type": "markdown",
   "metadata": {},
   "source": [
    "#### Learning Algorithm\n",
    "\n",
    "The algorithm employed was the Double Deep Q-Learning Networks (DDQN), which uses 2 twin Deep Neural Networks (DNN) to represent the approximation function on the Q-Learning strategy.\n",
    "\n",
    "One DNN is used as the policy approximation function (target) and the other as a reference (being updated not through backpropagation directly, but by copying a fraction of the target network's weights).\n",
    "\n",
    "Each DNN is a stack of 3 fully connected layers, with the number of states taken as the number of inputs and the number of actions taken as the number of outputs.\n",
    "\n",
    "To feed the DNNs it is necessary the current state and next state (for the reference and target DNNs respectively). These states, alongside the action, reward and 'done' flag are store as one episode instance in a Memory Buffer. After feeding the buffer with some episodes, these are fetched randomly, to avoid temporal correlation between consecutive episodes."
   ]
  },
  {
   "cell_type": "markdown",
   "metadata": {},
   "source": [
    "#### Plot of Rewards\n",
    "\n",
    "A plot of rewards per episode is included to illustrate that the agent is able to receive an average reward (over 100 episodes) of at least +13."
   ]
  },
  {
   "cell_type": "code",
   "execution_count": 1,
   "metadata": {},
   "outputs": [],
   "source": [
    "from unityagents import UnityEnvironment\n",
    "\n",
    "import numpy as np\n",
    "import torch\n",
    "\n",
    "import matplotlib.pyplot as plt\n",
    "%matplotlib inline\n",
    "\n",
    "from dqn_agent import Agent"
   ]
  },
  {
   "cell_type": "code",
   "execution_count": 2,
   "metadata": {},
   "outputs": [],
   "source": [
    "env_filename = '/home/adriano/Documentos/Estudo/DL/Udacity/DRLND/deep-reinforcement-learning/p1_navigation/Banana_Linux_NoVis/Banana.x86_64'"
   ]
  },
  {
   "cell_type": "code",
   "execution_count": 3,
   "metadata": {},
   "outputs": [
    {
     "name": "stderr",
     "output_type": "stream",
     "text": [
      "INFO:unityagents:\n",
      "'Academy' started successfully!\n",
      "Unity Academy name: Academy\n",
      "        Number of Brains: 1\n",
      "        Number of External Brains : 1\n",
      "        Lesson number : 0\n",
      "        Reset Parameters :\n",
      "\t\t\n",
      "Unity brain name: BananaBrain\n",
      "        Number of Visual Observations (per agent): 0\n",
      "        Vector Observation space type: continuous\n",
      "        Vector Observation space size (per agent): 37\n",
      "        Number of stacked Vector Observation: 1\n",
      "        Vector Action space type: discrete\n",
      "        Vector Action space size (per agent): 4\n",
      "        Vector Action descriptions: , , , \n"
     ]
    }
   ],
   "source": [
    "env = UnityEnvironment(file_name=env_filename)"
   ]
  },
  {
   "cell_type": "code",
   "execution_count": 4,
   "metadata": {},
   "outputs": [],
   "source": [
    "# get the default brain\n",
    "brain_name = env.brain_names[0]\n",
    "brain = env.brains[brain_name]"
   ]
  },
  {
   "cell_type": "code",
   "execution_count": 5,
   "metadata": {},
   "outputs": [],
   "source": [
    "# reset the environment\n",
    "env_info = env.reset(train_mode=False)[brain_name]\n",
    "\n",
    "# number of actions\n",
    "action_size = brain.vector_action_space_size\n",
    "\n",
    "# examine the state space\n",
    "state = env_info.vector_observations[0]\n",
    "state_size = len(state)"
   ]
  },
  {
   "cell_type": "code",
   "execution_count": 6,
   "metadata": {},
   "outputs": [
    {
     "name": "stdout",
     "output_type": "stream",
     "text": [
      "Episode 1\tAverage Score: 15.00\n",
      "Episode 2\tAverage Score: 18.50\n",
      "Episode 3\tAverage Score: 13.33\n",
      "Episode 4\tAverage Score: 15.50\n",
      "Episode 5\tAverage Score: 15.60\n",
      "Episode 6\tAverage Score: 15.17\n",
      "Episode 7\tAverage Score: 15.29\n",
      "Episode 8\tAverage Score: 15.12\n",
      "Episode 9\tAverage Score: 15.11\n",
      "Episode 10\tAverage Score: 16.00\n"
     ]
    },
    {
     "data": {
      "image/png": "[encoded data removed]",
      "text/plain": [
       "<Figure size 432x288 with 1 Axes>"
      ]
     },
     "metadata": {
      "needs_background": "light"
     },
     "output_type": "display_data"
    }
   ],
   "source": [
    "# initialize the agent\n",
    "agent = Agent(state_size=state_size, action_size=action_size, seed=42)\n",
    "\n",
    "# load the weights from file\n",
    "checkpoint = 'checkpoint.pth'\n",
    "agent.qnetwork_local.load_state_dict(torch.load(checkpoint))\n",
    "\n",
    "num_episodes = 10\n",
    "scores = []\n",
    "for i_episode in range(1,num_episodes+1):\n",
    "    env_info = env.reset(train_mode=False)[brain_name] # reset the environment\n",
    "    state = env_info.vector_observations[0]            # get the current state\n",
    "    \n",
    "    score = 0                                          # initialize the score\n",
    "    while True:\n",
    "        action = agent.act(state, eps=0)               # select an action\n",
    "        env_info = env.step(action)[brain_name]        # send the action to the env\n",
    "        next_state = env_info.vector_observations[0]   # get the next state\n",
    "        reward = env_info.rewards[0]                   # get the reward\n",
    "        done = env_info.local_done[0]                  # is episode done?\n",
    "\n",
    "        score += reward                                # update the score\n",
    "        state = next_state                             # set state to next state\n",
    "        if done:                                       # are we done yet?\n",
    "            scores.append(score)\n",
    "            print('\\rEpisode {}\\tAverage Score: {:.2f}'.format(i_episode, np.mean(scores)))\n",
    "            break\n",
    "\n",
    "# plot the scores\n",
    "fig = plt.figure()\n",
    "ax = fig.add_subplot(111)\n",
    "plt.plot(np.arange(len(scores)), scores)\n",
    "plt.ylabel('Score')\n",
    "plt.xlabel('Episode #')\n",
    "plt.show()"
   ]
  },
  {
   "cell_type": "code",
   "execution_count": 7,
   "metadata": {},
   "outputs": [],
   "source": [
    "env.close()"
   ]
  },
  {
   "cell_type": "markdown",
   "metadata": {},
   "source": [
    "#### Ideas for Future Work\n",
    "\n",
    "The improvements mentioned on paper *Rainbow - Combining Improvements in Deep Reinforcement Learning* (such as Prioritized DDQN and Dueling DDQN) could be implemented to achieve better results."
   ]
  }
 ],
 "metadata": {
  "kernelspec": {
   "display_name": "Python 3",
   "language": "python",
   "name": "python3"
  },
  "language_info": {
   "codemirror_mode": {
    "name": "ipython",
    "version": 3
   },
   "file_extension": ".py",
   "mimetype": "text/x-python",
   "name": "python",
   "nbconvert_exporter": "python",
   "pygments_lexer": "ipython3",
   "version": "3.7.3"
  }
 },
 "nbformat": 4,
 "nbformat_minor": 2
}
